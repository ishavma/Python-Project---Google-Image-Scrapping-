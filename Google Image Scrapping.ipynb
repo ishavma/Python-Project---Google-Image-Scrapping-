{
 "cells": [
  {
   "cell_type": "code",
   "execution_count": 1,
   "id": "82e69bb0-a09b-49ad-b3ec-16636ad5c6de",
   "metadata": {},
   "outputs": [],
   "source": [
    "import requests\n",
    "from bs4 import BeautifulSoup\n",
    "from urllib.request import urlopen as uReq\n",
    "import logging\n",
    "import os"
   ]
  },
  {
   "cell_type": "code",
   "execution_count": 2,
   "id": "2780bc4c-57b2-495d-9de8-6ec924abc51b",
   "metadata": {},
   "outputs": [],
   "source": [
    "save_dir = \"images/\"\n",
    "if not os.path.exists(save_dir):\n",
    "    os.makedirs(save_dir)"
   ]
  },
  {
   "cell_type": "code",
   "execution_count": 4,
   "id": "6318c34e-00ff-4beb-a60f-cb1f5f5e9cce",
   "metadata": {},
   "outputs": [],
   "source": [
    "headers = {\"User-Agent\" : \"Mozilla/5.0(Windows NT 10.0; Win64; x64) AppleWebkit/537.36 (KHTML,like Gecko) Chorme/58.0.3029.110 Safari/537.56\"}"
   ]
  },
  {
   "cell_type": "code",
   "execution_count": 5,
   "id": "8fcb3a23-afb3-44f9-b0ab-85c794e4577b",
   "metadata": {},
   "outputs": [],
   "source": [
    "query = \"Virat Kohli\"\n",
    "response = requests.get(f\"https://www.google.com/search?sca_esv=b0c8a5b5dae9aa98&rlz=1C1RXQR_enIN1137IN1137&udm=2&fbs=AIIjpHxU7SXXniUZfeShr2fp4giZ1Y6MJ25_tmWITc7uy4KIeuYzzFkfneXafNx6OMdA4MQRJc_t_TQjwHYrzlkIauOKj9nSuujpEIbB1x32lFLEvPT3JmO8mWQjm2X3w-eMKXZ0RUYhz1JSpwmiVqRbYKaSUH5IT0DtjseXr7pWbySQW2IansKYxVko0I4Xq9VSCktKDaAksofpR02O_Zlq1OtpJOB00g&q={query}&sa=X&sqi=2&ved=2ahUKEwikwJDrv_GOAxWYUGwGHZuNOnkQtKgLegQIEhAB&biw=1536&bih=738&dpr=1.25\")"
   ]
  },
  {
   "cell_type": "code",
   "execution_count": 7,
   "id": "7391dcc7-91e5-4bcb-8088-c9285aa45159",
   "metadata": {},
   "outputs": [
    {
     "name": "stdout",
     "output_type": "stream",
     "text": [
      "<Response [200]>\n"
     ]
    }
   ],
   "source": [
    "print(response)"
   ]
  },
  {
   "cell_type": "code",
   "execution_count": 9,
   "id": "a79dcb94-9bcd-4650-941c-c3fa0860b212",
   "metadata": {},
   "outputs": [],
   "source": [
    "Soup = BeautifulSoup(response.content,'html.parser')"
   ]
  },
  {
   "cell_type": "code",
   "execution_count": 10,
   "id": "62fbfb23-78ad-45d5-aee2-0ef6d6d631a5",
   "metadata": {},
   "outputs": [
    {
     "data": {
      "text/plain": [
       "<!DOCTYPE html PUBLIC \"-//WAPFORUM//DTD XHTML Mobile 1.0//EN\" \"http://www.wapforum.org/DTD/xhtml-mobile10.dtd\">\n",
       "<html lang=\"en-IN\" xmlns=\"http://www.w3.org/1999/xhtml\"><head><meta content=\"application/xhtml+xml; charset=utf-8\" http-equiv=\"Content-Type\"/><meta content=\"no-cache\" name=\"Cache-Control\"/><title>Virat Kohli - Google Search</title><style>a{text-decoration:none;color:inherit}a:hover{text-decoration:underline}a img{border:0}body{font-family:sans-serif;padding:8px;margin:0 auto;max-width:700px;min-width:240px;}.FbhRzb{border-left:thin solid #dadce0;border-right:thin solid #dadce0;border-top:thin solid #dadce0;height:40px;overflow:hidden}.n692Zd{margin-bottom:10px}.cvifge{height:40px;border-spacing:0}.QvGUP{height:40px;padding:0 8px 0 8px;vertical-align:top}.O4cRJf{height:40px;width:100%;padding:0;padding-right:14px}.O1ePr{height:40px;padding:0;vertical-align:top}.kgJEQe{height:36px;width:98px;vertical-align:top;margin-top:4px}.lXLRf{vertical-align:top}.MhzMZd{border:0;vertical-align:middle;font-size:14px;height:40px;padding:0;width:100%;padding-left:14px}.xB0fq{height:40px;border:none;font-size:14px;background-color:#1a73e8;color:#fff;padding:0 14px;margin:0;vertical-align:top;cursor:pointer}.xB0fq:focus{border:1px solid #1a73e8}.M7pB2{border:thin solid #dadce0;margin:0 0 3px 0;font-size:13px;font-weight:500;height:40px}.euZec{width:100%;height:40px;text-align:center;border-spacing:0}table.euZec td{padding:0;width:25%}.QIqI7{display:inline-block;padding-top:4px;font-weight:bold;color:#4285f4}.EY24We{border-bottom:2px solid #4285f4}.CsQyDc{display:inline-block;color:#70757a}.TuS8Ad{font-size:14px}.HddGcc{padding:8px;color:#70757a}.dzp8ae{font-weight:bold;color:#3c4043}.rEM8G{color:#70757a}.bookcf{table-layout:fixed;width:100%;border-spacing:0}.InWNIe{text-align:center}.uZgmoc{border:thin solid #dadce0;color:#70757a;font-size:14px;text-align:center;table-layout:fixed;width:100%}.frGj1b{display:block;padding:16px 0 12px 0;width:100%}.BnJWBc{text-align:center;padding:6px 0 13px 0;height:35px}.e3goi{vertical-align:top;padding:0;height:180px}.GpQGbf{margin:auto;border-collapse:collapse;border-spacing:0;width:100%}</style></head><body><style>.X6ZCif{color:#202124;font-size:11px;line-height:16px;display:inline-block;padding-top:2px;overflow:hidden;padding-bottom:4px;width:100%}.TwVfHd{border-radius:16px;border:thin solid #dadce0;display:inline-block;padding:8px 8px;margin-right:8px;margin-bottom:4px}.yekiAe{background-color:#dadce0}.jjVJ4e{width:100%}.ezO2md{border:thin solid #dadce0;padding:16px 14px 12px 14px;margin-bottom:10px;font-family:sans-serif}.lIMUZd{font-family:sans-serif}.RntSmf{border-spacing:0}.lgD2Tc{width:100%}.SpelHe{text-align:center}.SpelHe{position:relative}.kCmkOe{position:relative}.kCmkOe{width:162px;height:140px;line-height:140px;overflow:'hidden';text-align:center}.DS1iW{text-align:center;margin:auto;vertical-align:middle;max-width:162px;max-height:140px}.AlD19d{padding-top:2px;padding-bottom:8px;}.fYyStc{word-break:break-word}.ynsChf{display:block;white-space:nowrap;overflow:hidden;text-overflow:ellipsis}.Fj3V3b{color:#1967d2;font-size:14px;line-height:20px}.FrIlee{color:#202124;font-size:11px;line-height:16px}.F9iS2e{color:#70757a;font-size:11px;line-height:16px}.WMQ2Le{color:#70757a;font-size:12px;line-height:16px}.x3G5ab{color:#202124;font-size:12px;line-height:16px}.fuLhoc{color:#1967d2;font-size:16px;line-height:20px}.epoveb{font-size:24px;line-height:28px;font-weight:400;color:#202124}.dXDvrc{color:#0d652d;font-size:14px;line-height:20px;word-wrap:break-word}.dloBPe{font-weight:bold}.YVIcad{color:#70757a}.JkVVdd{color:#ea4335}.oXZRFd{color:#ea4335}.MQHtg{color:#fbbc04}.pyMRrb{color:#1e8e3e}.EtTZid{color:#1e8e3e}.M3vVJe{color:#1967d2}.qXLe6d{display:block}.NHQNef{font-style:italic}.Cb8Z7c{white-space:pre}a.ZWRArf{text-decoration:none}a .CVA68e:hover{text-decoration:underline}</style><div class=\"n692Zd\"><div class=\"BnJWBc\"><a class=\"lXLRf\" href=\"/?sa=X&amp;sca_esv=b0c8a5b5dae9aa98&amp;rlz=1C1RXQR_enIN1137IN1137&amp;biw=1536&amp;bih=738&amp;output=images&amp;ie=UTF-8&amp;tbm=isch&amp;ved=0ahUKEwiF5daqw_GOAxWQe2wGHeXJMqQQPAgC\"><img alt=\"Google\" class=\"kgJEQe\" src=\"/images/branding/searchlogo/1x/googlelogo_desk_heirloom_color_150x55dp.gif\"/></a></div><div class=\"FbhRzb\"><form action=\"/search\"><input name=\"sca_esv\" type=\"hidden\" value=\"b0c8a5b5dae9aa98\"/><input name=\"rlz\" type=\"hidden\" value=\"1C1RXQR_enIN1137IN1137\"/><input name=\"biw\" type=\"hidden\" value=\"1536\"/><input name=\"bih\" type=\"hidden\" value=\"738\"/><input name=\"ie\" type=\"hidden\" value=\"ISO-8859-1\"/><input name=\"tbm\" type=\"hidden\" value=\"isch\"/><input name=\"oq\" type=\"hidden\"/><input name=\"aqs\" type=\"hidden\"/><table class=\"cvifge\"><tr><td class=\"O4cRJf\"><input class=\"MhzMZd\" name=\"q\" type=\"text\" value=\"Virat Kohli\"/></td><td class=\"O1ePr\"><input class=\"xB0fq\" type=\"submit\" value=\"Search\"/></td></tr></table></form></div><div class=\"M7pB2\"><table class=\"euZec\"><tbody><tr><td><a class=\"CsQyDc\" href=\"/search?q=Virat+Kohli&amp;sca_esv=b0c8a5b5dae9aa98&amp;rlz=1C1RXQR_enIN1137IN1137&amp;biw=1536&amp;bih=738&amp;ie=UTF-8&amp;source=lnms&amp;fbs=AIIjpHxU7SXXniUZfeShr2fp4giZ1Y6MJ25_tmWITc7uy4KIeuYzzFkfneXafNx6OMdA4MQRJc_t_TQjwHYrzlkIauOKj9nSuujpEIbB1x32lFLEvPT3JmO8mWQjm2X3w-eMKXZ0RUYhz1JSpwmiVqRbYKaSUH5IT0DtjseXr7pWbySQW2IansKYxVko0I4Xq9VSCktKDaAksofpR02O_Zlq1OtpJOB00g&amp;sa=X&amp;ved=0ahUKEwiF5daqw_GOAxWQe2wGHeXJMqQQ_AUIBCgA\">ALL</a></td><td><a class=\"CsQyDc\" href=\"/search?q=Virat+Kohli&amp;sca_esv=b0c8a5b5dae9aa98&amp;rlz=1C1RXQR_enIN1137IN1137&amp;biw=1536&amp;bih=738&amp;ie=UTF-8&amp;tbm=nws&amp;source=lnms&amp;fbs=AIIjpHxU7SXXniUZfeShr2fp4giZ1Y6MJ25_tmWITc7uy4KIeuYzzFkfneXafNx6OMdA4MQRJc_t_TQjwHYrzlkIauOKj9nSuujpEIbB1x32lFLEvPT3JmO8mWQjm2X3w-eMKXZ0RUYhz1JSpwmiVqRbYKaSUH5IT0DtjseXr7pWbySQW2IansKYxVko0I4Xq9VSCktKDaAksofpR02O_Zlq1OtpJOB00g&amp;sa=X&amp;ved=0ahUKEwiF5daqw_GOAxWQe2wGHeXJMqQQ_AUIBSgB\">NEWS</a></td><td class=\"EY24We\"><span class=\"QIqI7\">IMAGES</span></td><td><a class=\"CsQyDc\" href=\"/search?q=Virat+Kohli&amp;sca_esv=b0c8a5b5dae9aa98&amp;rlz=1C1RXQR_enIN1137IN1137&amp;biw=1536&amp;bih=738&amp;ie=UTF-8&amp;tbm=vid&amp;source=lnms&amp;fbs=AIIjpHxU7SXXniUZfeShr2fp4giZ1Y6MJ25_tmWITc7uy4KIeuYzzFkfneXafNx6OMdA4MQRJc_t_TQjwHYrzlkIauOKj9nSuujpEIbB1x32lFLEvPT3JmO8mWQjm2X3w-eMKXZ0RUYhz1JSpwmiVqRbYKaSUH5IT0DtjseXr7pWbySQW2IansKYxVko0I4Xq9VSCktKDaAksofpR02O_Zlq1OtpJOB00g&amp;sa=X&amp;ved=0ahUKEwiF5daqw_GOAxWQe2wGHeXJMqQQ_AUIBygD\">VIDEOS</a></td></tr></tbody></table></div></div><div><table class=\"GpQGbf\"><tr><td align=\"center\" class=\"e3goi\"><div class=\"jjVJ4e\"> <div> <div class=\"lIMUZd\"><div><table class=\"RntSmf\"><tr><td><a href=\"/url?q=https://en.wikipedia.org/wiki/Virat_Kohli&amp;sa=U&amp;ved=2ahUKEwiF5daqw_GOAxWQe2wGHeXJMqQQqoUBegQIBxAB&amp;usg=AOvVaw1_ofwFpGzvt_XWnYFquZcw\"><div class=\"kCmkOe\"><img alt=\"\" class=\"DS1iW\" src=\"https://encrypted-tbn0.gstatic.com/images?q=tbn:ANd9GcSApOD8cC7Jh33c0VqbcFkcmx0og9wr1DYsD50a8Tp3p-0I33M_SuuLXA0Kizk&amp;s\"/></div></a></td></tr><tr><td><a href=\"/url?q=https://en.wikipedia.org/wiki/Virat_Kohli&amp;sa=U&amp;ved=2ahUKEwiF5daqw_GOAxWQe2wGHeXJMqQQr4kDegQIBxAC&amp;usg=AOvVaw3y4rSW8sdoKcebvVoZAVzO\"><div class=\"AlD19d\"> <span class=\"qXLe6d x3G5ab\"> <span class=\"fYyStc\">Virat Kohli - Wikipedia</span> </span> <span class=\"qXLe6d F9iS2e\"> <span class=\"fYyStc\">en.wikipedia.org</span> </span> </div></a></td></tr></table></div></div> </div> </div></td><td align=\"center\" class=\"e3goi\"><div class=\"jjVJ4e\"> <div> <div class=\"lIMUZd\"><div><table class=\"RntSmf\"><tr><td><a href=\"/url?q=https://www.iplt20.com/players/virat-kohli/164&amp;sa=U&amp;ved=2ahUKEwiF5daqw_GOAxWQe2wGHeXJMqQQqoUBegQIExAB&amp;usg=AOvVaw10N_o4OAv8L5mLdE1zk-C5\"><div class=\"kCmkOe\"><img alt=\"\" class=\"DS1iW\" src=\"https://encrypted-tbn0.gstatic.com/images?q=tbn:ANd9GcTjQrFsZ0q98tlpB98Rzx-0aot4sm99YLMi-8-l0FSYu4dX7GXJLLpfQ3QOZgg&amp;s\"/></div></a></td></tr><tr><td><a href=\"/url?q=https://www.iplt20.com/players/virat-kohli/164&amp;sa=U&amp;ved=2ahUKEwiF5daqw_GOAxWQe2wGHeXJMqQQr4kDegQIExAC&amp;usg=AOvVaw0FsNU6jMydwO0tud1nMf7Q\"><div class=\"AlD19d\"> <span class=\"qXLe6d x3G5ab\"> <span class=\"fYyStc\">IPL 2025 | Royal...</span> </span> <span class=\"qXLe6d F9iS2e\"> <span class=\"fYyStc\">www.iplt20.com</span> </span> </div></a></td></tr></table></div></div> </div> </div></td><td align=\"center\" class=\"e3goi\"><div class=\"jjVJ4e\"> <div> <div class=\"lIMUZd\"><div><table class=\"RntSmf\"><tr><td><a href=\"/url?q=https://www.bcci.tv/international/men/players/virat-kohli/2&amp;sa=U&amp;ved=2ahUKEwiF5daqw_GOAxWQe2wGHeXJMqQQqoUBegQIFBAB&amp;usg=AOvVaw22w5_sttmX4dir_WK6Sszt\"><div class=\"kCmkOe\"><img alt=\"\" class=\"DS1iW\" src=\"https://encrypted-tbn0.gstatic.com/images?q=tbn:ANd9GcT6CdrYXeLtgDB_RDu04lay4NYo8e-Wpas8IUGgf_PJymqdfWPGi0NA20Lqum8&amp;s\"/></div></a></td></tr><tr><td><a href=\"/url?q=https://www.bcci.tv/international/men/players/virat-kohli/2&amp;sa=U&amp;ved=2ahUKEwiF5daqw_GOAxWQe2wGHeXJMqQQr4kDegQIFBAC&amp;usg=AOvVaw0xAe2oq-mhr91kkxCCnx-q\"><div class=\"AlD19d\"> <span class=\"qXLe6d x3G5ab\"> <span class=\"fYyStc\">India Men's Cricket Team -...</span> </span> <span class=\"qXLe6d F9iS2e\"> <span class=\"fYyStc\">www.bcci.tv</span> </span> </div></a></td></tr></table></div></div> </div> </div></td><td align=\"center\" class=\"e3goi\"><div class=\"jjVJ4e\"> <div> <div class=\"lIMUZd\"><div><table class=\"RntSmf\"><tr><td><a href=\"/url?q=https://www.britannica.com/biography/Virat-Kohli&amp;sa=U&amp;ved=2ahUKEwiF5daqw_GOAxWQe2wGHeXJMqQQqoUBegQIEhAB&amp;usg=AOvVaw0oWblOi0SFIzbUVMTmqI1R\"><div class=\"kCmkOe\"><img alt=\"\" class=\"DS1iW\" src=\"https://encrypted-tbn0.gstatic.com/images?q=tbn:ANd9GcQq8X0nLNaCzy7-IB3JuFXdBf8TU8Osb9_3kM_zz_nV_7K3F5pk8RPNXJHQB-M&amp;s\"/></div></a></td></tr><tr><td><a href=\"/url?q=https://www.britannica.com/biography/Virat-Kohli&amp;sa=U&amp;ved=2ahUKEwiF5daqw_GOAxWQe2wGHeXJMqQQr4kDegQIEhAC&amp;usg=AOvVaw08AqOkAjRtgqxMn_fQzY3Y\"><div class=\"AlD19d\"> <span class=\"qXLe6d x3G5ab\"> <span class=\"fYyStc\">Virat Kohli | Life, Career,...</span> </span> <span class=\"qXLe6d F9iS2e\"> <span class=\"fYyStc\">www.britannica.com</span> </span> </div></a></td></tr></table></div></div> </div> </div></td></tr><tr><td align=\"center\" class=\"e3goi\"><div class=\"jjVJ4e\"> <div> <div class=\"lIMUZd\"><div><table class=\"RntSmf\"><tr><td><a href=\"/url?q=https://www.thechakkar.com/home/viratkohliretirement&amp;sa=U&amp;ved=2ahUKEwiF5daqw_GOAxWQe2wGHeXJMqQQqoUBegQIERAB&amp;usg=AOvVaw2xuo_LPjDAmawDJec5RnnH\"><div class=\"kCmkOe\"><img alt=\"\" class=\"DS1iW\" src=\"https://encrypted-tbn0.gstatic.com/images?q=tbn:ANd9GcQ_HDBxn0Mz7FkqgLIIzN6sPwl2Yhp1nHGFy346SoB2e1pb5QV0KNar3DBQyjg&amp;s\"/></div></a></td></tr><tr><td><a href=\"/url?q=https://www.thechakkar.com/home/viratkohliretirement&amp;sa=U&amp;ved=2ahUKEwiF5daqw_GOAxWQe2wGHeXJMqQQr4kDegQIERAC&amp;usg=AOvVaw1to-fQSgwWRofKNImrREYq\"><div class=\"AlD19d\"> <span class=\"qXLe6d x3G5ab\"> <span class=\"fYyStc\">Virat Kohli: A Career...</span> </span> <span class=\"qXLe6d F9iS2e\"> <span class=\"fYyStc\">www.thechakkar.com</span> </span> </div></a></td></tr></table></div></div> </div> </div></td><td align=\"center\" class=\"e3goi\"><div class=\"jjVJ4e\"> <div> <div class=\"lIMUZd\"><div><table class=\"RntSmf\"><tr><td><a href=\"/url?q=https://www.cricket.com.au/players/CA:10917/virat-kohli&amp;sa=U&amp;ved=2ahUKEwiF5daqw_GOAxWQe2wGHeXJMqQQqoUBegQIDhAB&amp;usg=AOvVaw3cWmU2CMfYxrxqcJerU5yJ\"><div class=\"kCmkOe\"><img alt=\"\" class=\"DS1iW\" src=\"https://encrypted-tbn0.gstatic.com/images?q=tbn:ANd9GcTwc9ZiTK5LuMMuxjC4ZI1iGX7HO2T7dGfY0TR3BsGMtu98ZQ0t9H8WKdbiNQ&amp;s\"/></div></a></td></tr><tr><td><a href=\"/url?q=https://www.cricket.com.au/players/CA:10917/virat-kohli&amp;sa=U&amp;ved=2ahUKEwiF5daqw_GOAxWQe2wGHeXJMqQQr4kDegQIDhAC&amp;usg=AOvVaw2vddnfr-v92ZfzAFVNzyeJ\"><div class=\"AlD19d\"> <span class=\"qXLe6d x3G5ab\"> <span class=\"fYyStc\">Virat Kohli |...</span> </span> <span class=\"qXLe6d F9iS2e\"> <span class=\"fYyStc\">www.cricket.com.au</span> </span> </div></a></td></tr></table></div></div> </div> </div></td><td align=\"center\" class=\"e3goi\"><div class=\"jjVJ4e\"> <div> <div class=\"lIMUZd\"><div><table class=\"RntSmf\"><tr><td><a href=\"/url?q=https://www.bbc.com/news/articles/cp857gryxn1o&amp;sa=U&amp;ved=2ahUKEwiF5daqw_GOAxWQe2wGHeXJMqQQqoUBegQIEBAB&amp;usg=AOvVaw1y5AgfTGoqGxhDcrxITSqJ\"><div class=\"kCmkOe\"><img alt=\"\" class=\"DS1iW\" src=\"https://encrypted-tbn0.gstatic.com/images?q=tbn:ANd9GcQ55mMErI7ukTxTaxvDqANCzMqNRyJwMjHc274ml3GY660GyEi7KWZyvsOoCQ&amp;s\"/></div></a></td></tr><tr><td><a href=\"/url?q=https://www.bbc.com/news/articles/cp857gryxn1o&amp;sa=U&amp;ved=2ahUKEwiF5daqw_GOAxWQe2wGHeXJMqQQr4kDegQIEBAC&amp;usg=AOvVaw0BSkxk4kHdNOp7jvqv84ot\"><div class=\"AlD19d\"> <span class=\"qXLe6d x3G5ab\"> <span class=\"fYyStc\">The heartbeat of a billion:...</span> </span> <span class=\"qXLe6d F9iS2e\"> <span class=\"fYyStc\">www.bbc.com</span> </span> </div></a></td></tr></table></div></div> </div> </div></td><td align=\"center\" class=\"e3goi\"><div class=\"jjVJ4e\"> <div> <div class=\"lIMUZd\"><div><table class=\"RntSmf\"><tr><td><a href=\"/url?q=https://m.rediff.com/cricket/report/very-aggressive-very-impressive-very-virat-kohli-asia-cup-71st-century-reactions/20220908.htm&amp;sa=U&amp;ved=2ahUKEwiF5daqw_GOAxWQe2wGHeXJMqQQqoUBegQIDxAB&amp;usg=AOvVaw2ztrSFjPPovAgEUzX-HkFI\"><div class=\"kCmkOe\"><img alt=\"\" class=\"DS1iW\" src=\"https://encrypted-tbn0.gstatic.com/images?q=tbn:ANd9GcSKLYq3rbjIScerDZDfTfYtZ2wzANoPaC4_o2L6u_uKBRCsdvjAhZDgvLTpKgg&amp;s\"/></div></a></td></tr><tr><td><a href=\"/url?q=https://m.rediff.com/cricket/report/very-aggressive-very-impressive-very-virat-kohli-asia-cup-71st-century-reactions/20220908.htm&amp;sa=U&amp;ved=2ahUKEwiF5daqw_GOAxWQe2wGHeXJMqQQr4kDegQIDxAC&amp;usg=AOvVaw0LxqudcEr0gsj_4OjYqCka\"><div class=\"AlD19d\"> <span class=\"qXLe6d x3G5ab\"> <span class=\"fYyStc\">Very aggressive, very...</span> </span> <span class=\"qXLe6d F9iS2e\"> <span class=\"fYyStc\">m.rediff.com</span> </span> </div></a></td></tr></table></div></div> </div> </div></td></tr><tr><td align=\"center\" class=\"e3goi\"><div class=\"jjVJ4e\"> <div> <div class=\"lIMUZd\"><div><table class=\"RntSmf\"><tr><td><a href=\"/url?q=https://timesofindia.indiatimes.com/sports/cricket/ipl/player-stats/virat-kohli/3993&amp;sa=U&amp;ved=2ahUKEwiF5daqw_GOAxWQe2wGHeXJMqQQqoUBegQIDRAB&amp;usg=AOvVaw0u-YmsYMyJl6ziQ-090l7y\"><div class=\"kCmkOe\"><img alt=\"\" class=\"DS1iW\" src=\"https://encrypted-tbn0.gstatic.com/images?q=tbn:ANd9GcSf4Zc2-Cy3g-I9Tb9XAMjlrmM_cVztWU2w_Tu2RkT-5ZkRJ7Iy5NNsqJYWNtM&amp;s\"/></div></a></td></tr><tr><td><a href=\"/url?q=https://timesofindia.indiatimes.com/sports/cricket/ipl/player-stats/virat-kohli/3993&amp;sa=U&amp;ved=2ahUKEwiF5daqw_GOAxWQe2wGHeXJMqQQr4kDegQIDRAC&amp;usg=AOvVaw39WdXOIhEBvTeK2OEMtgIW\"><div class=\"AlD19d\"> <span class=\"qXLe6d x3G5ab\"> <span class=\"fYyStc\">Virat Kohli IPL Stats,...</span> </span> <span class=\"qXLe6d F9iS2e\"> <span class=\"fYyStc\">timesofindia.indiatimes.com...</span> </span> </div></a></td></tr></table></div></div> </div> </div></td><td align=\"center\" class=\"e3goi\"><div class=\"jjVJ4e\"> <div> <div class=\"lIMUZd\"><div><table class=\"RntSmf\"><tr><td><a href=\"/url?q=https://en.wikipedia.org/wiki/List_of_international_cricket_centuries_by_Virat_Kohli&amp;sa=U&amp;ved=2ahUKEwiF5daqw_GOAxWQe2wGHeXJMqQQqoUBegQIDBAB&amp;usg=AOvVaw3VNBviFYBWhoZeMOgeFAbc\"><div class=\"kCmkOe\"><img alt=\"\" class=\"DS1iW\" src=\"https://encrypted-tbn0.gstatic.com/images?q=tbn:ANd9GcTUeuIZo5io1o5Em7d8Pe9WaETi9ia7_spebQ-JRUx_JqI8PwU0oVCOfrWNog&amp;s\"/></div></a></td></tr><tr><td><a href=\"/url?q=https://en.wikipedia.org/wiki/List_of_international_cricket_centuries_by_Virat_Kohli&amp;sa=U&amp;ved=2ahUKEwiF5daqw_GOAxWQe2wGHeXJMqQQr4kDegQIDBAC&amp;usg=AOvVaw27nfLxUuhinvrVnaALWL7J\"><div class=\"AlD19d\"> <span class=\"qXLe6d x3G5ab\"> <span class=\"fYyStc\">List of international...</span> </span> <span class=\"qXLe6d F9iS2e\"> <span class=\"fYyStc\">en.wikipedia.org</span> </span> </div></a></td></tr></table></div></div> </div> </div></td><td align=\"center\" class=\"e3goi\"><div class=\"jjVJ4e\"> <div> <div class=\"lIMUZd\"><div><table class=\"RntSmf\"><tr><td><a href=\"/url?q=https://www.hindustantimes.com/cricket/virat-kohli-pumped-after-india-win-oval-test-praises-india-star-mohammed-siraj-gets-quick-classy-response-101754316721287.html&amp;sa=U&amp;ved=2ahUKEwiF5daqw_GOAxWQe2wGHeXJMqQQqoUBegQIChAB&amp;usg=AOvVaw2eMmU-nARWRIa4zpCxJRP7\"><div class=\"kCmkOe\"><img alt=\"\" class=\"DS1iW\" src=\"https://encrypted-tbn0.gstatic.com/images?q=tbn:ANd9GcTtRsqYzTkE_sUSgnicZP3Nhn9HGG4Uq68knuYI18buvKhCwmbT78v2e7nMsPw&amp;s\"/></div></a></td></tr><tr><td><a href=\"/url?q=https://www.hindustantimes.com/cricket/virat-kohli-pumped-after-india-win-oval-test-praises-india-star-mohammed-siraj-gets-quick-classy-response-101754316721287.html&amp;sa=U&amp;ved=2ahUKEwiF5daqw_GOAxWQe2wGHeXJMqQQr4kDegQIChAC&amp;usg=AOvVaw2BTQdvX4sJ6GP7b2udb9_5\"><div class=\"AlD19d\"> <span class=\"qXLe6d x3G5ab\"> <span class=\"fYyStc\">Virat Kohli pumped after...</span> </span> <span class=\"qXLe6d F9iS2e\"> <span class=\"fYyStc\">www.hindustantimes.com</span> </span> </div></a></td></tr></table></div></div> </div> </div></td><td align=\"center\" class=\"e3goi\"><div class=\"jjVJ4e\"> <div> <div class=\"lIMUZd\"><div><table class=\"RntSmf\"><tr><td><a href=\"/url?q=https://zeenews.india.com/web-stories/cricket/7-life-lessons-to-learn-from-virat-kohli-career-2802833.html&amp;sa=U&amp;ved=2ahUKEwiF5daqw_GOAxWQe2wGHeXJMqQQqoUBegQICxAB&amp;usg=AOvVaw1Q0dIlyjimIqyA3aMa9Zxi\"><div class=\"kCmkOe\"><img alt=\"\" class=\"DS1iW\" src=\"https://encrypted-tbn0.gstatic.com/images?q=tbn:ANd9GcQSO8JuP6uct8Z-2hk7sFcVya7mxEJFNcB4B3HgHJlMIvWlhZWqHRse7oVEzQ&amp;s\"/></div></a></td></tr><tr><td><a href=\"/url?q=https://zeenews.india.com/web-stories/cricket/7-life-lessons-to-learn-from-virat-kohli-career-2802833.html&amp;sa=U&amp;ved=2ahUKEwiF5daqw_GOAxWQe2wGHeXJMqQQr4kDegQICxAC&amp;usg=AOvVaw1cL1Obegtxt6WSod3DJOse\"><div class=\"AlD19d\"> <span class=\"qXLe6d x3G5ab\"> <span class=\"fYyStc\">7 Life Lessons To Learn...</span> </span> <span class=\"qXLe6d F9iS2e\"> <span class=\"fYyStc\">zeenews.india.com</span> </span> </div></a></td></tr></table></div></div> </div> </div></td></tr><tr><td align=\"center\" class=\"e3goi\"><div class=\"jjVJ4e\"> <div> <div class=\"lIMUZd\"><div><table class=\"RntSmf\"><tr><td><a href=\"/url?q=https://m.economictimes.com/news/sports/virat-kohli-invests-in-world-bowling-league-kohlis-new-pitch-isnt-cricket-but-he-is-interested-in-bowling-check-whats-his-new-bet/articleshow/121464075.cms&amp;sa=U&amp;ved=2ahUKEwiF5daqw_GOAxWQe2wGHeXJMqQQqoUBegQICBAB&amp;usg=AOvVaw3Ym5JAjpglo71BFmPaGNX_\"><div class=\"kCmkOe\"><img alt=\"\" class=\"DS1iW\" src=\"https://encrypted-tbn0.gstatic.com/images?q=tbn:ANd9GcR3pPPul2Ns_4YJWN6l3F5zT7ZgJhOD8o3vi7SS4mRlYLrJhI_7_DusD6ypSIo&amp;s\"/></div></a></td></tr><tr><td><a href=\"/url?q=https://m.economictimes.com/news/sports/virat-kohli-invests-in-world-bowling-league-kohlis-new-pitch-isnt-cricket-but-he-is-interested-in-bowling-check-whats-his-new-bet/articleshow/121464075.cms&amp;sa=U&amp;ved=2ahUKEwiF5daqw_GOAxWQe2wGHeXJMqQQr4kDegQICBAC&amp;usg=AOvVaw09tnoj3k3pDhjRvLVPkzRQ\"><div class=\"AlD19d\"> <span class=\"qXLe6d x3G5ab\"> <span class=\"fYyStc\">Virat Kohli's new pitch...</span> </span> <span class=\"qXLe6d F9iS2e\"> <span class=\"fYyStc\">m.economictimes.com</span> </span> </div></a></td></tr></table></div></div> </div> </div></td><td align=\"center\" class=\"e3goi\"><div class=\"jjVJ4e\"> <div> <div class=\"lIMUZd\"><div><table class=\"RntSmf\"><tr><td><a href=\"/url?q=https://www.espncricinfo.com/story/india-news-virat-kohli-tells-bcci-he-wants-to-retire-from-test-cricket-1485521&amp;sa=U&amp;ved=2ahUKEwiF5daqw_GOAxWQe2wGHeXJMqQQqoUBegQIAxAB&amp;usg=AOvVaw2dFMDSIL5ifhukxiH_X-RT\"><div class=\"kCmkOe\"><img alt=\"\" class=\"DS1iW\" src=\"https://encrypted-tbn0.gstatic.com/images?q=tbn:ANd9GcSShR6QtxFbMQ05CQlcKdI28tvkjVdRiTn7Qkfq8YNxJvcZ-yjkFIs_6u-HLUg&amp;s\"/></div></a></td></tr><tr><td><a href=\"/url?q=https://www.espncricinfo.com/story/india-news-virat-kohli-tells-bcci-he-wants-to-retire-from-test-cricket-1485521&amp;sa=U&amp;ved=2ahUKEwiF5daqw_GOAxWQe2wGHeXJMqQQr4kDegQIAxAC&amp;usg=AOvVaw0D9bB9umDxz_s8ZPlOOnDM\"><div class=\"AlD19d\"> <span class=\"qXLe6d x3G5ab\"> <span class=\"fYyStc\">India news - Virat Kohli...</span> </span> <span class=\"qXLe6d F9iS2e\"> <span class=\"fYyStc\">www.espncricinfo.com</span> </span> </div></a></td></tr></table></div></div> </div> </div></td><td align=\"center\" class=\"e3goi\"><div class=\"jjVJ4e\"> <div> <div class=\"lIMUZd\"><div><table class=\"RntSmf\"><tr><td><a href=\"/url?q=https://www.pinterest.com/pin/996351117563404807/&amp;sa=U&amp;ved=2ahUKEwiF5daqw_GOAxWQe2wGHeXJMqQQqoUBegQIBBAB&amp;usg=AOvVaw09cQxdUHn_WzrUc3rFzC0w\"><div class=\"kCmkOe\"><img alt=\"\" class=\"DS1iW\" src=\"https://encrypted-tbn0.gstatic.com/images?q=tbn:ANd9GcT80T6rBmgPk3kv_yGBGTDVdB1_hE9uPfiPeGaHywTP9_0u2rrMm37LUFvkhg&amp;s\"/></div></a></td></tr><tr><td><a href=\"/url?q=https://www.pinterest.com/pin/996351117563404807/&amp;sa=U&amp;ved=2ahUKEwiF5daqw_GOAxWQe2wGHeXJMqQQr4kDegQIBBAC&amp;usg=AOvVaw1bim7Kb2XqurEUQqcenxad\"><div class=\"AlD19d\"> <span class=\"qXLe6d x3G5ab\"> <span class=\"fYyStc\">Virat Kohli batting</span> </span> <span class=\"qXLe6d F9iS2e\"> <span class=\"fYyStc\">www.pinterest.com</span> </span> </div></a></td></tr></table></div></div> </div> </div></td><td align=\"center\" class=\"e3goi\"><div class=\"jjVJ4e\"> <div> <div class=\"lIMUZd\"><div><table class=\"RntSmf\"><tr><td><a href=\"/url?q=https://www.royalchallengers.com/rcb-cricket-news/news/happy-birthday-virat-kohli-the-emperor-who-grants-life-to-dreams&amp;sa=U&amp;ved=2ahUKEwiF5daqw_GOAxWQe2wGHeXJMqQQqoUBegQIBhAB&amp;usg=AOvVaw1YKi9A7zNMueoD5WkXeuHM\"><div class=\"kCmkOe\"><img alt=\"\" class=\"DS1iW\" src=\"https://encrypted-tbn0.gstatic.com/images?q=tbn:ANd9GcRdo2IIngyJzmUQExbEj8kZONsez6mruhdNBOmrxY3YOU8WZLZVRZFVfKF5334&amp;s\"/></div></a></td></tr><tr><td><a href=\"/url?q=https://www.royalchallengers.com/rcb-cricket-news/news/happy-birthday-virat-kohli-the-emperor-who-grants-life-to-dreams&amp;sa=U&amp;ved=2ahUKEwiF5daqw_GOAxWQe2wGHeXJMqQQr4kDegQIBhAC&amp;usg=AOvVaw1fiui45rGlAMIk-5DBO4NM\"><div class=\"AlD19d\"> <span class=\"qXLe6d x3G5ab\"> <span class=\"fYyStc\">Celebrating Virat Kohli's...</span> </span> <span class=\"qXLe6d F9iS2e\"> <span class=\"fYyStc\">www.royalchallengers.com</span> </span> </div></a></td></tr></table></div></div> </div> </div></td></tr><tr><td align=\"center\" class=\"e3goi\"><div class=\"jjVJ4e\"> <div> <div class=\"lIMUZd\"><div><table class=\"RntSmf\"><tr><td><a href=\"/url?q=https://simple.wikipedia.org/wiki/Virat_Kohli&amp;sa=U&amp;ved=2ahUKEwiF5daqw_GOAxWQe2wGHeXJMqQQqoUBegQIARAB&amp;usg=AOvVaw0k3N8SVaCnYUjVEw0iEeGs\"><div class=\"kCmkOe\"><img alt=\"\" class=\"DS1iW\" src=\"https://encrypted-tbn0.gstatic.com/images?q=tbn:ANd9GcRKVEvAkBfN4ypIN7WFA8Y5Bm_o2AnPbbs21PJbxVH4d_pjW7wCSGDKxxfVWw&amp;s\"/></div></a></td></tr><tr><td><a href=\"/url?q=https://simple.wikipedia.org/wiki/Virat_Kohli&amp;sa=U&amp;ved=2ahUKEwiF5daqw_GOAxWQe2wGHeXJMqQQr4kDegQIARAC&amp;usg=AOvVaw0Zib-84Ipx7G3yW0SD4DKG\"><div class=\"AlD19d\"> <span class=\"qXLe6d x3G5ab\"> <span class=\"fYyStc\">Virat Kohli - Simple...</span> </span> <span class=\"qXLe6d F9iS2e\"> <span class=\"fYyStc\">simple.wikipedia.org</span> </span> </div></a></td></tr></table></div></div> </div> </div></td><td align=\"center\" class=\"e3goi\"><div class=\"jjVJ4e\"> <div> <div class=\"lIMUZd\"><div><table class=\"RntSmf\"><tr><td><a href=\"/url?q=https://www.sterlingbiotech.in/%3Fv%3D96835377230&amp;sa=U&amp;ved=2ahUKEwiF5daqw_GOAxWQe2wGHeXJMqQQqoUBegQIAhAB&amp;usg=AOvVaw3061EPOM818j92g26P0132\"><div class=\"kCmkOe\"><img alt=\"\" class=\"DS1iW\" src=\"https://encrypted-tbn0.gstatic.com/images?q=tbn:ANd9GcTS3fkNZwZhekI1Bsp6Fu6gCThWw1u5H_QuhAkU_lRHhHyOZpncY2CkVAJ-1A&amp;s\"/></div></a></td></tr><tr><td><a href=\"/url?q=https://www.sterlingbiotech.in/%3Fv%3D96835377230&amp;sa=U&amp;ved=2ahUKEwiF5daqw_GOAxWQe2wGHeXJMqQQr4kDegQIAhAC&amp;usg=AOvVaw0o6rm427Xd73ZUmngt2j1Q\"><div class=\"AlD19d\"> <span class=\"qXLe6d x3G5ab\"> <span class=\"fYyStc\">India captain Virat...</span> </span> <span class=\"qXLe6d F9iS2e\"> <span class=\"fYyStc\">www.sterlingbiotech.in</span> </span> </div></a></td></tr></table></div></div> </div> </div></td><td align=\"center\" class=\"e3goi\"><div class=\"jjVJ4e\"> <div> <div class=\"lIMUZd\"><div><table class=\"RntSmf\"><tr><td><a href=\"/url?q=https://sports.ndtv.com/cricket/virat-kohli-reveals-special-friendship-with-ex-india-pacer-nothing-has-changed-8344096&amp;sa=U&amp;ved=2ahUKEwiF5daqw_GOAxWQe2wGHeXJMqQQqoUBegQICRAB&amp;usg=AOvVaw04zs6u31ZOfTPYlUTodmIk\"><div class=\"kCmkOe\"><img alt=\"\" class=\"DS1iW\" src=\"https://encrypted-tbn0.gstatic.com/images?q=tbn:ANd9GcTRTHEu7wyPemlaqePykLZWrerugLTrd7FspxeitdE9IFt33aBxscD2UFEO5g&amp;s\"/></div></a></td></tr><tr><td><a href=\"/url?q=https://sports.ndtv.com/cricket/virat-kohli-reveals-special-friendship-with-ex-india-pacer-nothing-has-changed-8344096&amp;sa=U&amp;ved=2ahUKEwiF5daqw_GOAxWQe2wGHeXJMqQQr4kDegQICRAC&amp;usg=AOvVaw0JwTtQy9FqeYo5rin2iL2L\"><div class=\"AlD19d\"> <span class=\"qXLe6d x3G5ab\"> <span class=\"fYyStc\">Virat Kohli Reveals...</span> </span> <span class=\"qXLe6d F9iS2e\"> <span class=\"fYyStc\">sports.ndtv.com</span> </span> </div></a></td></tr></table></div></div> </div> </div></td><td align=\"center\" class=\"e3goi\"><div class=\"jjVJ4e\"> <div> <div class=\"lIMUZd\"><div><table class=\"RntSmf\"><tr><td><a href=\"/url?q=https://www.aljazeera.com/sports/2025/5/12/virat-kohli-announces-retirement-from-test-cricket&amp;sa=U&amp;ved=2ahUKEwiF5daqw_GOAxWQe2wGHeXJMqQQqoUBegQIBRAB&amp;usg=AOvVaw1JP_241fBH0OXEWTfQJ0zq\"><div class=\"kCmkOe\"><img alt=\"\" class=\"DS1iW\" src=\"https://encrypted-tbn0.gstatic.com/images?q=tbn:ANd9GcRPJKLn0LQvy9GrD7UHHEPlu8wSg-trmjqr5f1THBpCp8H8o3NSdjXKu2TScTE&amp;s\"/></div></a></td></tr><tr><td><a href=\"/url?q=https://www.aljazeera.com/sports/2025/5/12/virat-kohli-announces-retirement-from-test-cricket&amp;sa=U&amp;ved=2ahUKEwiF5daqw_GOAxWQe2wGHeXJMqQQr4kDegQIBRAC&amp;usg=AOvVaw2c6wTcRd3WhJpndzJiz_iN\"><div class=\"AlD19d\"> <span class=\"qXLe6d x3G5ab\"> <span class=\"fYyStc\">Virat Kohli announces...</span> </span> <span class=\"qXLe6d F9iS2e\"> <span class=\"fYyStc\">www.aljazeera.com</span> </span> </div></a></td></tr></table></div></div> </div> </div></td></tr></table></div><table class=\"uZgmoc\"><tbody><td><a class=\"frGj1b\" href=\"/search?q=Virat+Kohli&amp;sca_esv=b0c8a5b5dae9aa98&amp;rlz=1C1RXQR_enIN1137IN1137&amp;biw=1536&amp;bih=738&amp;ie=UTF-8&amp;tbm=isch&amp;ei=JNmQaIXDIJD3seMP5ZPLoQo&amp;start=20&amp;sa=N\">Next &gt;</a></td></tbody></table><br/><div class=\"TuS8Ad\" data-ved=\"0ahUKEwiF5daqw_GOAxWQe2wGHeXJMqQQpyoIRQ\"><style>.VYM29{font-weight:bold}</style><div align=\"center\" class=\"HddGcc\"><span class=\"VYM29\">110096, Delhi</span><span> - </span><span>From your IP address</span><span> - </span><a href=\"/url?q=https://support.google.com/websearch%3Fp%3Dws_settings_location%26hl%3Den-IN&amp;opi=89978449&amp;sa=U&amp;ved=0ahUKEwiF5daqw_GOAxWQe2wGHeXJMqQQty4IRg&amp;usg=AOvVaw3CmihPYHhva1COJ-zbGxoD\">Learn more</a></div><div align=\"center\"><a class=\"rEM8G\" href=\"/url?q=https://accounts.google.com/ServiceLogin%3Fcontinue%3Dhttps://www.google.com/search%253Fsca_esv%253Db0c8a5b5dae9aa98%2526rlz%253D1C1RXQR_enIN1137IN1137%2526fbs%253DAIIjpHxU7SXXniUZfeShr2fp4giZ1Y6MJ25_tmWITc7uy4KIeuYzzFkfneXafNx6OMdA4MQRJc_t_TQjwHYrzlkIauOKj9nSuujpEIbB1x32lFLEvPT3JmO8mWQjm2X3w-eMKXZ0RUYhz1JSpwmiVqRbYKaSUH5IT0DtjseXr7pWbySQW2IansKYxVko0I4Xq9VSCktKDaAksofpR02O_Zlq1OtpJOB00g%2526q%253DVirat%252BKohli%2526sa%253DX%2526sqi%253D2%2526ved%253D2ahUKEwikwJDrv_GOAxWYUGwGHZuNOnkQtKgLegQIEhAB%2526biw%253D1536%2526bih%253D738%2526dpr%253D1.25%2526tbm%253Disch%26hl%3Den&amp;opi=89978449&amp;sa=U&amp;ved=0ahUKEwiF5daqw_GOAxWQe2wGHeXJMqQQxs8CCEc&amp;usg=AOvVaw3017-Hpm8y7CvJCjfcG_N2\">Sign in</a></div><div><table class=\"bookcf\"><tbody class=\"InWNIe\"><tr><td><a class=\"rEM8G\" href=\"https://www.google.com/preferences?hl=en&amp;sa=X&amp;ved=0ahUKEwiF5daqw_GOAxWQe2wGHeXJMqQQv5YECEg\">Settings</a></td><td><a class=\"rEM8G\" href=\"https://www.google.com/intl/en_in/policies/privacy/\">Privacy</a></td><td><a class=\"rEM8G\" href=\"https://www.google.com/intl/en_in/policies/terms/\">Terms</a></td></tr></tbody></table></div></div><div> </div></body></html>"
      ]
     },
     "execution_count": 10,
     "metadata": {},
     "output_type": "execute_result"
    }
   ],
   "source": [
    "Soup"
   ]
  },
  {
   "cell_type": "code",
   "execution_count": 12,
   "id": "e657ebc9-bab6-4d31-9397-3fc70dda286c",
   "metadata": {},
   "outputs": [],
   "source": [
    "images_tags = Soup.find_all(\"img\")"
   ]
  },
  {
   "cell_type": "code",
   "execution_count": 13,
   "id": "fe4a93cf-dbff-458f-9cb1-69c744744138",
   "metadata": {},
   "outputs": [
    {
     "data": {
      "text/plain": [
       "[<img alt=\"Google\" class=\"kgJEQe\" src=\"/images/branding/searchlogo/1x/googlelogo_desk_heirloom_color_150x55dp.gif\"/>,\n",
       " <img alt=\"\" class=\"DS1iW\" src=\"https://encrypted-tbn0.gstatic.com/images?q=tbn:ANd9GcSApOD8cC7Jh33c0VqbcFkcmx0og9wr1DYsD50a8Tp3p-0I33M_SuuLXA0Kizk&amp;s\"/>,\n",
       " <img alt=\"\" class=\"DS1iW\" src=\"https://encrypted-tbn0.gstatic.com/images?q=tbn:ANd9GcTjQrFsZ0q98tlpB98Rzx-0aot4sm99YLMi-8-l0FSYu4dX7GXJLLpfQ3QOZgg&amp;s\"/>,\n",
       " <img alt=\"\" class=\"DS1iW\" src=\"https://encrypted-tbn0.gstatic.com/images?q=tbn:ANd9GcT6CdrYXeLtgDB_RDu04lay4NYo8e-Wpas8IUGgf_PJymqdfWPGi0NA20Lqum8&amp;s\"/>,\n",
       " <img alt=\"\" class=\"DS1iW\" src=\"https://encrypted-tbn0.gstatic.com/images?q=tbn:ANd9GcQq8X0nLNaCzy7-IB3JuFXdBf8TU8Osb9_3kM_zz_nV_7K3F5pk8RPNXJHQB-M&amp;s\"/>,\n",
       " <img alt=\"\" class=\"DS1iW\" src=\"https://encrypted-tbn0.gstatic.com/images?q=tbn:ANd9GcQ_HDBxn0Mz7FkqgLIIzN6sPwl2Yhp1nHGFy346SoB2e1pb5QV0KNar3DBQyjg&amp;s\"/>,\n",
       " <img alt=\"\" class=\"DS1iW\" src=\"https://encrypted-tbn0.gstatic.com/images?q=tbn:ANd9GcTwc9ZiTK5LuMMuxjC4ZI1iGX7HO2T7dGfY0TR3BsGMtu98ZQ0t9H8WKdbiNQ&amp;s\"/>,\n",
       " <img alt=\"\" class=\"DS1iW\" src=\"https://encrypted-tbn0.gstatic.com/images?q=tbn:ANd9GcQ55mMErI7ukTxTaxvDqANCzMqNRyJwMjHc274ml3GY660GyEi7KWZyvsOoCQ&amp;s\"/>,\n",
       " <img alt=\"\" class=\"DS1iW\" src=\"https://encrypted-tbn0.gstatic.com/images?q=tbn:ANd9GcSKLYq3rbjIScerDZDfTfYtZ2wzANoPaC4_o2L6u_uKBRCsdvjAhZDgvLTpKgg&amp;s\"/>,\n",
       " <img alt=\"\" class=\"DS1iW\" src=\"https://encrypted-tbn0.gstatic.com/images?q=tbn:ANd9GcSf4Zc2-Cy3g-I9Tb9XAMjlrmM_cVztWU2w_Tu2RkT-5ZkRJ7Iy5NNsqJYWNtM&amp;s\"/>,\n",
       " <img alt=\"\" class=\"DS1iW\" src=\"https://encrypted-tbn0.gstatic.com/images?q=tbn:ANd9GcTUeuIZo5io1o5Em7d8Pe9WaETi9ia7_spebQ-JRUx_JqI8PwU0oVCOfrWNog&amp;s\"/>,\n",
       " <img alt=\"\" class=\"DS1iW\" src=\"https://encrypted-tbn0.gstatic.com/images?q=tbn:ANd9GcTtRsqYzTkE_sUSgnicZP3Nhn9HGG4Uq68knuYI18buvKhCwmbT78v2e7nMsPw&amp;s\"/>,\n",
       " <img alt=\"\" class=\"DS1iW\" src=\"https://encrypted-tbn0.gstatic.com/images?q=tbn:ANd9GcQSO8JuP6uct8Z-2hk7sFcVya7mxEJFNcB4B3HgHJlMIvWlhZWqHRse7oVEzQ&amp;s\"/>,\n",
       " <img alt=\"\" class=\"DS1iW\" src=\"https://encrypted-tbn0.gstatic.com/images?q=tbn:ANd9GcR3pPPul2Ns_4YJWN6l3F5zT7ZgJhOD8o3vi7SS4mRlYLrJhI_7_DusD6ypSIo&amp;s\"/>,\n",
       " <img alt=\"\" class=\"DS1iW\" src=\"https://encrypted-tbn0.gstatic.com/images?q=tbn:ANd9GcSShR6QtxFbMQ05CQlcKdI28tvkjVdRiTn7Qkfq8YNxJvcZ-yjkFIs_6u-HLUg&amp;s\"/>,\n",
       " <img alt=\"\" class=\"DS1iW\" src=\"https://encrypted-tbn0.gstatic.com/images?q=tbn:ANd9GcT80T6rBmgPk3kv_yGBGTDVdB1_hE9uPfiPeGaHywTP9_0u2rrMm37LUFvkhg&amp;s\"/>,\n",
       " <img alt=\"\" class=\"DS1iW\" src=\"https://encrypted-tbn0.gstatic.com/images?q=tbn:ANd9GcRdo2IIngyJzmUQExbEj8kZONsez6mruhdNBOmrxY3YOU8WZLZVRZFVfKF5334&amp;s\"/>,\n",
       " <img alt=\"\" class=\"DS1iW\" src=\"https://encrypted-tbn0.gstatic.com/images?q=tbn:ANd9GcRKVEvAkBfN4ypIN7WFA8Y5Bm_o2AnPbbs21PJbxVH4d_pjW7wCSGDKxxfVWw&amp;s\"/>,\n",
       " <img alt=\"\" class=\"DS1iW\" src=\"https://encrypted-tbn0.gstatic.com/images?q=tbn:ANd9GcTS3fkNZwZhekI1Bsp6Fu6gCThWw1u5H_QuhAkU_lRHhHyOZpncY2CkVAJ-1A&amp;s\"/>,\n",
       " <img alt=\"\" class=\"DS1iW\" src=\"https://encrypted-tbn0.gstatic.com/images?q=tbn:ANd9GcTRTHEu7wyPemlaqePykLZWrerugLTrd7FspxeitdE9IFt33aBxscD2UFEO5g&amp;s\"/>,\n",
       " <img alt=\"\" class=\"DS1iW\" src=\"https://encrypted-tbn0.gstatic.com/images?q=tbn:ANd9GcRPJKLn0LQvy9GrD7UHHEPlu8wSg-trmjqr5f1THBpCp8H8o3NSdjXKu2TScTE&amp;s\"/>]"
      ]
     },
     "execution_count": 13,
     "metadata": {},
     "output_type": "execute_result"
    }
   ],
   "source": [
    "images_tags"
   ]
  },
  {
   "cell_type": "code",
   "execution_count": 14,
   "id": "d6a27ea5-086b-4204-8bbe-a3c3970898af",
   "metadata": {},
   "outputs": [
    {
     "data": {
      "text/plain": [
       "21"
      ]
     },
     "execution_count": 14,
     "metadata": {},
     "output_type": "execute_result"
    }
   ],
   "source": [
    "len(images_tags)"
   ]
  },
  {
   "cell_type": "code",
   "execution_count": 15,
   "id": "12029905-bc7f-4643-8386-ae4848ee83a8",
   "metadata": {},
   "outputs": [],
   "source": [
    "del images_tags[0]"
   ]
  },
  {
   "cell_type": "code",
   "execution_count": 19,
   "id": "1927bb13-4876-413f-b833-855eea704916",
   "metadata": {},
   "outputs": [],
   "source": [
    "img_data_mongo = []\n",
    "for i in images_tags:\n",
    "    image_url = i['src']\n",
    "    image_data = requests.get(image_url).content\n",
    "    mydict = {\"index\":image_url,\"image\":image_data}\n",
    "    img_data_mongo.append(mydict)\n",
    "\n",
    "    with open(os.path.join(save_dir,f\"{query}_{images_tags.index(i)}.jpg\"),\"wb\") as f:\n",
    "        f.write(image_data)"
   ]
  },
  {
   "cell_type": "code",
   "execution_count": null,
   "id": "e07a822e-3586-427c-a7e2-9d09e9cb38e3",
   "metadata": {},
   "outputs": [],
   "source": []
  },
  {
   "cell_type": "code",
   "execution_count": null,
   "id": "87ebe9ff-6439-4099-9c9e-4c656cdf9c83",
   "metadata": {},
   "outputs": [],
   "source": []
  },
  {
   "cell_type": "code",
   "execution_count": null,
   "id": "191b84cd-b37b-4b9a-8d3d-301bb5d6751b",
   "metadata": {},
   "outputs": [],
   "source": []
  },
  {
   "cell_type": "code",
   "execution_count": null,
   "id": "8806f8f5-5871-440a-8b2b-0cc3a99b3793",
   "metadata": {},
   "outputs": [],
   "source": []
  },
  {
   "cell_type": "code",
   "execution_count": null,
   "id": "81303e42-2dbd-460b-a11c-dc91ac3e0b45",
   "metadata": {},
   "outputs": [],
   "source": []
  },
  {
   "cell_type": "code",
   "execution_count": null,
   "id": "dd326ca2-6740-403f-85a7-faa29e9f12d8",
   "metadata": {},
   "outputs": [],
   "source": []
  },
  {
   "cell_type": "code",
   "execution_count": null,
   "id": "3b39a48e-c1c0-4f02-9fe8-7f9bdd6b03f0",
   "metadata": {},
   "outputs": [],
   "source": []
  },
  {
   "cell_type": "code",
   "execution_count": null,
   "id": "b5494311-f0e4-47e9-a765-84069b287e9f",
   "metadata": {},
   "outputs": [],
   "source": []
  },
  {
   "cell_type": "code",
   "execution_count": null,
   "id": "a5169b0a-e132-4a0a-9ce9-d09eb0b53dcf",
   "metadata": {},
   "outputs": [],
   "source": []
  },
  {
   "cell_type": "code",
   "execution_count": null,
   "id": "9ed28a56-ee9f-4192-a65b-946114fd6180",
   "metadata": {},
   "outputs": [],
   "source": []
  },
  {
   "cell_type": "code",
   "execution_count": null,
   "id": "b6b077d3-c4cc-4d0c-a32b-8deccc4d1704",
   "metadata": {},
   "outputs": [],
   "source": []
  },
  {
   "cell_type": "code",
   "execution_count": null,
   "id": "b6cffe4a-a0b6-4a12-8c14-c398e76b9410",
   "metadata": {},
   "outputs": [],
   "source": []
  }
 ],
 "metadata": {
  "kernelspec": {
   "display_name": "Python 3 (ipykernel)",
   "language": "python",
   "name": "python3"
  },
  "language_info": {
   "codemirror_mode": {
    "name": "ipython",
    "version": 3
   },
   "file_extension": ".py",
   "mimetype": "text/x-python",
   "name": "python",
   "nbconvert_exporter": "python",
   "pygments_lexer": "ipython3",
   "version": "3.12.7"
  }
 },
 "nbformat": 4,
 "nbformat_minor": 5
}
